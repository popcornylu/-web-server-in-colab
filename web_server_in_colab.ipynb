{
  "nbformat": 4,
  "nbformat_minor": 0,
  "metadata": {
    "colab": {
      "name": "web-server-in-colab.ipynb",
      "provenance": []
    },
    "kernelspec": {
      "name": "python3",
      "display_name": "Python 3"
    },
    "language_info": {
      "name": "python"
    }
  },
  "cells": [
    {
      "cell_type": "code",
      "execution_count": 43,
      "metadata": {
        "id": "15-RGnxKWsg1"
      },
      "outputs": [],
      "source": [
        "from IPython.core.magic import register_line_magic\n",
        "import subprocess\n",
        "\n",
        "@register_line_magic\n",
        "def run_local_server(line):\n",
        "    handle = IPython.display.display(\n",
        "            IPython.display.Pretty(\"Launching my server...\"),\n",
        "            display_id=True,\n",
        "    )\n",
        "    subprocess.Popen(['python', '-m', 'http.server'])\n",
        "    shell = \"\"\"\n",
        "        (async () => {\n",
        "            const url = new URL(await google.colab.kernel.proxyPort(8000, {'cache': true}));\n",
        "            const iframe = document.createElement('iframe');\n",
        "            iframe.src = url;\n",
        "            iframe.setAttribute('width', '100%');\n",
        "            iframe.setAttribute('height', '400');\n",
        "            iframe.setAttribute('frameborder', 0);\n",
        "            document.body.appendChild(iframe);\n",
        "        })();\n",
        "    \"\"\"\n",
        "    script = IPython.display.Javascript(shell)\n",
        "    handle.update(script)"
      ]
    },
    {
      "cell_type": "code",
      "source": [
        "%run_local_server"
      ],
      "metadata": {
        "colab": {
          "resources": {
            "https://localhost:8000/": {
              "data": "PCFET0NUWVBFIEhUTUwgUFVCTElDICItLy9XM0MvL0RURCBIVE1MIDQuMDEvL0VOIiAiaHR0cDovL3d3dy53My5vcmcvVFIvaHRtbDQvc3RyaWN0LmR0ZCI+CjxodG1sPgo8aGVhZD4KPG1ldGEgaHR0cC1lcXVpdj0iQ29udGVudC1UeXBlIiBjb250ZW50PSJ0ZXh0L2h0bWw7IGNoYXJzZXQ9dXRmLTgiPgo8dGl0bGU+RGlyZWN0b3J5IGxpc3RpbmcgZm9yIC88L3RpdGxlPgo8L2hlYWQ+Cjxib2R5Pgo8aDE+RGlyZWN0b3J5IGxpc3RpbmcgZm9yIC88L2gxPgo8aHI+Cjx1bD4KPGxpPjxhIGhyZWY9Ii5jb25maWcvIj4uY29uZmlnLzwvYT48L2xpPgo8bGk+PGEgaHJlZj0iLmlweW5iX2NoZWNrcG9pbnRzLyI+LmlweW5iX2NoZWNrcG9pbnRzLzwvYT48L2xpPgo8bGk+PGEgaHJlZj0iYXNkc2FkZiI+YXNkc2FkZjwvYT48L2xpPgo8bGk+PGEgaHJlZj0ic2FtcGxlX2RhdGEvIj5zYW1wbGVfZGF0YS88L2E+PC9saT4KPC91bD4KPGhyPgo8L2JvZHk+CjwvaHRtbD4K",
              "ok": true,
              "headers": [
                [
                  "content-type",
                  "text/html; charset=utf-8"
                ]
              ],
              "status": 200,
              "status_text": ""
            }
          },
          "base_uri": "https://localhost:8080/",
          "height": 421
        },
        "id": "01_lsCjTWtjj",
        "outputId": "21fe6254-ff38-4fef-bfff-df0ef9bf69e6"
      },
      "execution_count": 45,
      "outputs": [
        {
          "output_type": "display_data",
          "data": {
            "application/javascript": [
              "\n",
              "        (async () => {\n",
              "            const url = new URL(await google.colab.kernel.proxyPort(8000, {'cache': true}));\n",
              "            const iframe = document.createElement('iframe');\n",
              "            iframe.src = url;\n",
              "            iframe.setAttribute('width', '100%');\n",
              "            iframe.setAttribute('height', '400');\n",
              "            iframe.setAttribute('frameborder', 0);\n",
              "            document.body.appendChild(iframe);\n",
              "        })();\n",
              "    "
            ],
            "text/plain": [
              "<IPython.core.display.Javascript object>"
            ]
          },
          "metadata": {}
        }
      ]
    },
    {
      "cell_type": "code",
      "source": [
        ""
      ],
      "metadata": {
        "id": "Gs_ySCDXcHg5"
      },
      "execution_count": null,
      "outputs": []
    }
  ]
}